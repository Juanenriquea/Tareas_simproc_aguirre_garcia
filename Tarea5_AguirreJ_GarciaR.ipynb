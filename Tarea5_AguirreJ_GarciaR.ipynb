{
 "cells": [
  {
   "cell_type": "markdown",
   "metadata": {},
   "source": [
    "<img style=\"float: left; margin: 30px 15px 15px 15px;\" src=\"https://pngimage.net/wp-content/uploads/2018/06/logo-iteso-png-5.png\" width=\"300\" height=\"500\" /> \n",
    "    \n",
    "    \n",
    "### <font color='navy'> Simulación de procesos financieros. \n",
    "\n",
    "**Nombres:** Renatta Garcia Sanchez, Juan Enrique Aguirre López\n",
    "\n",
    "**Fecha:**  15 de octubre del 2020.\n",
    "\n",
    "**Expediente** : 703275 ,722664 \n",
    "**Profesor:** Oscar David Jaramillo Zuluaga.\n",
    "    \n",
    "**Liga repositorio:** https://github.com/renattaGS/Tareas_simproc_aguirre_garcia\n",
    "\n",
    "# Tarea 4: Clase 13"
   ]
  },
  {
   "attachments": {
    "imagen.png": {
     "image/png": "[encoded data removed]"
    }
   },
   "cell_type": "markdown",
   "metadata": {},
   "source": [
    "### Problema 1\n",
    ">1.Suponer que $T$ distribuye beta donde la media es $\\mu_p$ y varianza $\\sigma_p^2$ y responder cual es la probabilidad $P(T\\leq d)$.\n",
    "    ![imagen.png](attachment:imagen.png)\n",
    "\n",
    "> **Ayuda**: - Aprender a utlizar el solucionador de ecuaciones no lineales https://stackoverflow.com/questions/19843116/passing-arguments-to-fsolve\n",
    "- Leer el help de la función beta del paquete estadístico para aprender a graficar funciones beta en un intervalo diferente a 0 y 1.\n",
    "\n"
   ]
  },
  {
   "cell_type": "markdown",
   "metadata": {},
   "source": [
    "## Solución Juan Enrique "
   ]
  },
  {
   "cell_type": "code",
   "execution_count": null,
   "metadata": {},
   "outputs": [],
   "source": []
  },
  {
   "cell_type": "code",
   "execution_count": null,
   "metadata": {},
   "outputs": [],
   "source": []
  },
  {
   "cell_type": "code",
   "execution_count": null,
   "metadata": {},
   "outputs": [],
   "source": []
  },
  {
   "cell_type": "markdown",
   "metadata": {},
   "source": [
    "## Solución Renatta "
   ]
  },
  {
   "cell_type": "code",
   "execution_count": 10,
   "metadata": {},
   "outputs": [
    {
     "data": {
      "image/png": "[encoded data removed]",
      "text/plain": [
       "<Figure size 720x432 with 2 Axes>"
      ]
     },
     "metadata": {
      "needs_background": "light"
     },
     "output_type": "display_data"
    }
   ],
   "source": [
    "from scipy.optimize import fsolve\n",
    "import scipy.stats as st \n",
    "import numpy as np\n",
    "import matplotlib.pyplot as plt\n",
    "\n",
    "miu = 44 #media del proceso\n",
    "sigma = 3 #desvest del proceso\n",
    "d = 47 #valor sobre el que queremos calcular la probabilidad\n",
    "a=40\n",
    "b=49 #a y b son los límites inferior y superior sobre el que calcularemos la función beta\n",
    "\n",
    "def Beta(x: 'Vector de valores para alpha y beta'):\n",
    "    'Esta función se utiliza para conocer los parámetros alpha y beta, dadas miu y sigma'\n",
    "    return [miu-((a*x[0]+b*x[1])/(x[1]+x[0])),\n",
    "            sigma**2-((x[1]*x[0]*(b-a)**2)/(((x[1]+x[0])**2)*(1+x[1]+x[0])))]\n",
    "    \n",
    "beta_alpha=fsolve(Beta, [1,1])\n",
    "\n",
    "x = np.linspace(a,b, 100000)\n",
    "y_acum = st.beta.cdf(x,beta_alpha[1], beta_alpha[0], scale=(b-a), loc=a)\n",
    "y=st.beta.pdf(x,beta_alpha[1], beta_alpha[0], scale=(b-a), loc=a)\n",
    "\n",
    "fig, (ax1, ax2) = plt.subplots(1, 2, figsize=(10,6))\n",
    "ax1.plot(x, y, 'r-')\n",
    "ax1.grid()\n",
    "ax1.set_title('Distribución de probabilidad')\n",
    "ax2.plot(x, y_acum, 'b-')\n",
    "ax2.grid()\n",
    "ax2.set_title('Distribución de probabilidad acumulada')\n",
    "plt.show()\n"
   ]
  },
  {
   "cell_type": "code",
   "execution_count": 15,
   "metadata": {},
   "outputs": [
    {
     "name": "stdout",
     "output_type": "stream",
     "text": [
      "La probabilidad de P(T <= d) 76.77251926284654  %\n"
     ]
    }
   ],
   "source": [
    "p_47=st.beta.cdf(d,beta_alpha[1], beta_alpha[0], scale=(b-a), loc=a)\n",
    "print(\"La probabilidad de P(T <= d)\", p_47*100, \"%\" )"
   ]
  },
  {
   "cell_type": "markdown",
   "metadata": {},
   "source": [
    "### Problema 2\n",
    ">2.Suponer que $T$ distribuye triangular donde el valor mas probable es $\\mu_p$ el valor pesimista es $p=49$ y el valor optimista es $o=40$ y responder cual es la probabilidad $P(T\\leq d)$. Nuevamente aprender a graficar una función triangular en un intervalro [a,b], usando el help.\n"
   ]
  },
  {
   "cell_type": "markdown",
   "metadata": {},
   "source": [
    "## Solución Juan Enrique "
   ]
  },
  {
   "cell_type": "code",
   "execution_count": null,
   "metadata": {},
   "outputs": [],
   "source": []
  },
  {
   "cell_type": "code",
   "execution_count": null,
   "metadata": {},
   "outputs": [],
   "source": []
  },
  {
   "cell_type": "code",
   "execution_count": null,
   "metadata": {},
   "outputs": [],
   "source": []
  },
  {
   "cell_type": "markdown",
   "metadata": {},
   "source": [
    "## Solución Renatta "
   ]
  },
  {
   "cell_type": "code",
   "execution_count": null,
   "metadata": {},
   "outputs": [],
   "source": []
  },
  {
   "cell_type": "code",
   "execution_count": null,
   "metadata": {},
   "outputs": [],
   "source": []
  },
  {
   "cell_type": "code",
   "execution_count": null,
   "metadata": {},
   "outputs": [],
   "source": []
  },
  {
   "cell_type": "code",
   "execution_count": null,
   "metadata": {},
   "outputs": [],
   "source": []
  }
 ],
 "metadata": {
  "kernelspec": {
   "display_name": "Python 3",
   "language": "python",
   "name": "python3"
  },
  "language_info": {
   "codemirror_mode": {
    "name": "ipython",
    "version": 3
   },
   "file_extension": ".py",
   "mimetype": "text/x-python",
   "name": "python",
   "nbconvert_exporter": "python",
   "pygments_lexer": "ipython3",
   "version": "3.7.1"
  }
 },
 "nbformat": 4,
 "nbformat_minor": 4
}
